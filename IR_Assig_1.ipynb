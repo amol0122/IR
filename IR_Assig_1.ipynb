{
  "nbformat": 4,
  "nbformat_minor": 0,
  "metadata": {
    "colab": {
      "provenance": []
    },
    "kernelspec": {
      "name": "python3",
      "display_name": "Python 3"
    },
    "language_info": {
      "name": "python"
    }
  },
  "cells": [
    {
      "cell_type": "code",
      "source": [
        "text = '''This is a document about cats. Cats are furry animals that are often kept as pets.\n",
        "They are known for their independent nature and their love of napping.\n",
        "Cats come in a variety of breeds, including Siamese, Persian, and Maine Coon.\n",
        "\n",
        "Dogs are also popular pets. Dogs are social animals that enjoy being around people.\n",
        "They are known for their loyalty and their ability to learn tricks.\n",
        "Dogs come in a variety of breeds, including Labrador Retrievers, Golden Retrievers, and German Shepherds.\n",
        "\n",
        "Both cats and dogs make great companions.\n",
        "They can provide love, companionship, and entertainment.\n",
        "If you are thinking about getting a pet, consider a cat or a dog\n",
        "'''"
      ],
      "metadata": {
        "id": "KKAlRrkHOwVe"
      },
      "execution_count": null,
      "outputs": []
    },
    {
      "cell_type": "code",
      "source": [
        "import nltk\n",
        "nltk.download('punkt')\n",
        "\n",
        "tokens = nltk.word_tokenize(text)\n",
        "print('Tokens :',tokens)"
      ],
      "metadata": {
        "colab": {
          "base_uri": "https://localhost:8080/"
        },
        "id": "-V4KWsc8NmF8",
        "outputId": "722e05a0-8fe9-4c3d-eaf5-910a30989660"
      },
      "execution_count": null,
      "outputs": [
        {
          "output_type": "stream",
          "name": "stdout",
          "text": [
            "Tokens : ['This', 'is', 'a', 'document', 'about', 'cats', '.', 'Cats', 'are', 'furry', 'animals', 'that', 'are', 'often', 'kept', 'as', 'pets', '.', 'They', 'are', 'known', 'for', 'their', 'independent', 'nature', 'and', 'their', 'love', 'of', 'napping', '.', 'Cats', 'come', 'in', 'a', 'variety', 'of', 'breeds', ',', 'including', 'Siamese', ',', 'Persian', ',', 'and', 'Maine', 'Coon', '.', 'Dogs', 'are', 'also', 'popular', 'pets', '.', 'Dogs', 'are', 'social', 'animals', 'that', 'enjoy', 'being', 'around', 'people', '.', 'They', 'are', 'known', 'for', 'their', 'loyalty', 'and', 'their', 'ability', 'to', 'learn', 'tricks', '.', 'Dogs', 'come', 'in', 'a', 'variety', 'of', 'breeds', ',', 'including', 'Labrador', 'Retrievers', ',', 'Golden', 'Retrievers', ',', 'and', 'German', 'Shepherds', '.', 'Both', 'cats', 'and', 'dogs', 'make', 'great', 'companions', '.', 'They', 'can', 'provide', 'love', ',', 'companionship', ',', 'and', 'entertainment', '.', 'If', 'you', 'are', 'thinking', 'about', 'getting', 'a', 'pet', ',', 'consider', 'a', 'cat', 'or', 'a', 'dog']\n"
          ]
        },
        {
          "output_type": "stream",
          "name": "stderr",
          "text": [
            "[nltk_data] Downloading package punkt to /root/nltk_data...\n",
            "[nltk_data]   Package punkt is already up-to-date!\n"
          ]
        }
      ]
    },
    {
      "cell_type": "code",
      "source": [
        "# Remove stop words.\n",
        "nltk.download(\"stopwords\")\n",
        "\n",
        "stop_words = nltk.corpus.stopwords.words(\"english\")\n",
        "tokens = [token for token in tokens if token not in stop_words]\n",
        "\n",
        "print('Tokens after removing Stop words :\\n', tokens)"
      ],
      "metadata": {
        "colab": {
          "base_uri": "https://localhost:8080/"
        },
        "id": "X6C8P1Q7O61R",
        "outputId": "1755d832-d909-483c-f66f-8ad8d1d431ca"
      },
      "execution_count": null,
      "outputs": [
        {
          "output_type": "stream",
          "name": "stdout",
          "text": [
            "Tokens after removing Stop words :\n",
            " ['This', 'document', 'cats', '.', 'Cats', 'furry', 'animals', 'often', 'kept', 'pets', '.', 'They', 'known', 'independent', 'nature', 'love', 'napping', '.', 'Cats', 'come', 'variety', 'breeds', ',', 'including', 'Siamese', ',', 'Persian', ',', 'Maine', 'Coon', '.', 'Dogs', 'also', 'popular', 'pets', '.', 'Dogs', 'social', 'animals', 'enjoy', 'around', 'people', '.', 'They', 'known', 'loyalty', 'ability', 'learn', 'tricks', '.', 'Dogs', 'come', 'variety', 'breeds', ',', 'including', 'Labrador', 'Retrievers', ',', 'Golden', 'Retrievers', ',', 'German', 'Shepherds', '.', 'Both', 'cats', 'dogs', 'make', 'great', 'companions', '.', 'They', 'provide', 'love', ',', 'companionship', ',', 'entertainment', '.', 'If', 'thinking', 'getting', 'pet', ',', 'consider', 'cat', 'dog']\n"
          ]
        },
        {
          "output_type": "stream",
          "name": "stderr",
          "text": [
            "[nltk_data] Downloading package stopwords to /root/nltk_data...\n",
            "[nltk_data]   Package stopwords is already up-to-date!\n"
          ]
        }
      ]
    },
    {
      "cell_type": "code",
      "source": [
        "# Stem the tokens.\n",
        "\n",
        "stemmer = nltk.stem.PorterStemmer()\n",
        "steemed_text = [stemmer.stem(token) for token in tokens]\n",
        "\n",
        "print('Final text after stemming :- ', \" \".join(steemed_text))"
      ],
      "metadata": {
        "id": "cTQwqXpZPNEg",
        "colab": {
          "base_uri": "https://localhost:8080/"
        },
        "outputId": "3c9b2629-38a9-4a78-a655-dce47a634a41"
      },
      "execution_count": null,
      "outputs": [
        {
          "output_type": "stream",
          "name": "stdout",
          "text": [
            "Final text after stemming :-  thi document cat . cat furri anim often kept pet . they known independ natur love nap . cat come varieti breed , includ siames , persian , main coon . dog also popular pet . dog social anim enjoy around peopl . they known loyalti abil learn trick . dog come varieti breed , includ labrador retriev , golden retriev , german shepherd . both cat dog make great companion . they provid love , companionship , entertain . if think get pet , consid cat dog\n"
          ]
        }
      ]
    },
    {
      "cell_type": "code",
      "source": [
        "from nltk.stem import WordNetLemmatizer\n",
        "nltk.download('wordnet')\n",
        "\n",
        "lemmatizer = WordNetLemmatizer()\n",
        "lemmatized_text = [lemmatizer.lemmatize(token) for token in tokens]\n",
        "\n",
        "print('Final text after lemmatization  :- ', \" \".join(lemmatized_text))"
      ],
      "metadata": {
        "id": "Q7MliXnoOTZ_",
        "colab": {
          "base_uri": "https://localhost:8080/"
        },
        "outputId": "0efa3f65-bfaa-4167-a5cf-782357080b1a"
      },
      "execution_count": null,
      "outputs": [
        {
          "output_type": "stream",
          "name": "stdout",
          "text": [
            "Final text after lemmatization  :-  This document cat . Cats furry animal often kept pet . They known independent nature love napping . Cats come variety breed , including Siamese , Persian , Maine Coon . Dogs also popular pet . Dogs social animal enjoy around people . They known loyalty ability learn trick . Dogs come variety breed , including Labrador Retrievers , Golden Retrievers , German Shepherds . Both cat dog make great companion . They provide love , companionship , entertainment . If thinking getting pet , consider cat dog\n"
          ]
        },
        {
          "output_type": "stream",
          "name": "stderr",
          "text": [
            "[nltk_data] Downloading package wordnet to /root/nltk_data...\n",
            "[nltk_data]   Package wordnet is already up-to-date!\n"
          ]
        }
      ]
    },
    {
      "cell_type": "code",
      "source": [],
      "metadata": {
        "id": "b9WJ-XVhws__"
      },
      "execution_count": null,
      "outputs": []
    }
  ]
}