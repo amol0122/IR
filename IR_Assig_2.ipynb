{
 "cells": [
  {
   "cell_type": "code",
   "execution_count": null,
   "metadata": {
    "colab": {
     "base_uri": "https://localhost:8080/"
    },
    "id": "-y7Rs8nfF9CY",
    "outputId": "4d8ca9ed-be3d-4145-98e2-5d0f3e4aa93a"
   },
   "outputs": [
    {
     "name": "stdout",
     "output_type": "stream",
     "text": [
      "Enter key to be searched: fox\n",
      "fox -> ['Document 1']\n"
     ]
    }
   ],
   "source": [
    "# Define the documents\n",
    "document1 = \"The quick brown fox jumped over the lazy dog .\"\n",
    "document2 = \"The lazy dog slept in the sun .\"\n",
    "\n",
    "# Step 1: Tokenize the documents\n",
    "# Convert each document to lowercase and split it into words\n",
    "tokens1 = document1.lower().split()\n",
    "tokens2 = document2.lower().split()\n",
    "\n",
    "# Combine the tokens into a list of unique terms\n",
    "terms = list(set(tokens1 + tokens2))\n",
    "\n",
    "# Step 2: Build the inverted index\n",
    "# Create an empty dictionary to store the inverted index\n",
    "inverted_index = {}\n",
    "\n",
    "# For each term, find the documents that contain it\n",
    "for term in terms:\n",
    "\tdocuments = []\n",
    "\tif term in tokens1:\n",
    "\t\tdocuments.append(\"Document 1\")\n",
    "\tif term in tokens2:\n",
    "\t\tdocuments.append(\"Document 2\")\n",
    "\tinverted_index[term] = documents\n",
    "\n",
    "# Step 3: Print the inverted index\n",
    "key = input('Enter key to be searched: ').lower()\n",
    "\n",
    "# for key, documents in inverted_index.items():\n",
    "# \tprint(term, \"->\", \", \".join(documents))\n",
    "\n",
    "if key in inverted_index:\n",
    "\tprint(key, \"->\", inverted_index[key])"
   ]
  },
  {
   "cell_type": "code",
   "execution_count": null,
   "metadata": {
    "id": "IrXG8_1pXclQ"
   },
   "outputs": [],
   "source": []
  }
 ],
 "metadata": {
  "colab": {
   "provenance": []
  },
  "kernelspec": {
   "display_name": "Python 3 (ipykernel)",
   "language": "python",
   "name": "python3"
  },
  "language_info": {
   "codemirror_mode": {
    "name": "ipython",
    "version": 3
   },
   "file_extension": ".py",
   "mimetype": "text/x-python",
   "name": "python",
   "nbconvert_exporter": "python",
   "pygments_lexer": "ipython3",
   "version": "3.9.13"
  }
 },
 "nbformat": 4,
 "nbformat_minor": 1
}
