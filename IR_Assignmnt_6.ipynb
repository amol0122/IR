{
  "nbformat": 4,
  "nbformat_minor": 0,
  "metadata": {
    "colab": {
      "provenance": []
    },
    "kernelspec": {
      "name": "python3",
      "display_name": "Python 3"
    },
    "language_info": {
      "name": "python"
    }
  },
  "cells": [
    {
      "cell_type": "code",
      "execution_count": null,
      "metadata": {
        "colab": {
          "base_uri": "https://localhost:8080/"
        },
        "id": "8ZSdeNmSQ6T9",
        "outputId": "dc1178a8-9001-4301-c130-aa43e109704f"
      },
      "outputs": [
        {
          "output_type": "stream",
          "name": "stdout",
          "text": [
            "PageRank: [0.3245616 0.1754384 0.3245616 0.1754384]\n"
          ]
        }
      ],
      "source": [
        "import numpy as np\n",
        "\n",
        "def pagerank(graph, d=0.85, max_iterations=100, convergence_threshold=1e-6):\n",
        "    # Initialize variables\n",
        "    num_pages = len(graph)\n",
        "    rank = np.ones(num_pages) / num_pages\n",
        "    out_degree = np.sum(graph, axis=1)\n",
        "\n",
        "    for i in range(max_iterations):\n",
        "        new_rank = np.zeros(num_pages)\n",
        "        for j in range(num_pages):\n",
        "            # Calculate the new rank for page j\n",
        "            for k in range(num_pages):\n",
        "                if graph[k, j] == 1:\n",
        "                    new_rank[j] += rank[k] / out_degree[k]\n",
        "            new_rank[j] = (1 - d) / num_pages + d * new_rank[j]\n",
        "\n",
        "        # Check for convergence\n",
        "        if np.linalg.norm(new_rank - rank) < convergence_threshold:\n",
        "            break\n",
        "\n",
        "        rank = new_rank\n",
        "\n",
        "    return rank\n",
        "\n",
        "# Example web graph (adjacency matrix)\n",
        "web_graph = np.array([\n",
        "    [0, 1, 1, 0],\n",
        "    [1, 0, 0, 0],\n",
        "    [1, 0, 0, 1],\n",
        "    [0, 0, 1, 0]\n",
        "])\n",
        "\n",
        "# Calculate PageRank\n",
        "result = pagerank(web_graph)\n",
        "print(\"PageRank:\", result)"
      ]
    }
  ]
}